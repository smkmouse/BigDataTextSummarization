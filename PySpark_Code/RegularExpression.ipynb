{
 "cells": [
  {
   "cell_type": "code",
   "execution_count": 1,
   "metadata": {
    "collapsed": true
   },
   "outputs": [],
   "source": [
    "import json\n",
    "import gensim\n",
    "import pandas\n",
    "import re\n",
    "#from summa.summarizer import summarize\n",
    "from gensim.summarization import summarize"
   ]
  },
  {
   "cell_type": "code",
   "execution_count": 2,
   "metadata": {
    "collapsed": true
   },
   "outputs": [],
   "source": [
    "with open('fixedJSON.json') as file:\n",
    "\tdata = json.load(file)"
   ]
  },
  {
   "cell_type": "code",
   "execution_count": 34,
   "metadata": {
    "collapsed": true
   },
   "outputs": [],
   "source": [
    "noise = ['hurricane-irma', 'hurricane-joses', 'hurricane-maria']"
   ]
  },
  {
   "cell_type": "code",
   "execution_count": null,
   "metadata": {
    "collapsed": true
   },
   "outputs": [],
   "source": []
  },
  {
   "cell_type": "code",
   "execution_count": 35,
   "metadata": {},
   "outputs": [],
   "source": [
    "sentences_list = ['' if any([term in articles['URL'] for term in noise]) else articles['Sentences'] for articles in data]"
   ]
  },
  {
   "cell_type": "code",
   "execution_count": null,
   "metadata": {
    "collapsed": true
   },
   "outputs": [],
   "source": []
  },
  {
   "cell_type": "code",
   "execution_count": 36,
   "metadata": {
    "collapsed": true
   },
   "outputs": [],
   "source": [
    "#get hurrican irma\n",
    "irma = ['irma']\n",
    "doc_irma = [articles['Sentences'] if any([term in articles['URL'] for term in irma]) else '' for articles in data]"
   ]
  },
  {
   "cell_type": "code",
   "execution_count": 37,
   "metadata": {},
   "outputs": [
    {
     "data": {
      "text/plain": [
       "274"
      ]
     },
     "execution_count": 37,
     "metadata": {},
     "output_type": "execute_result"
    }
   ],
   "source": [
    "docs_irma = [s for s in doc_irma if s]\n",
    "len(docs_irma)"
   ]
  },
  {
   "cell_type": "code",
   "execution_count": 48,
   "metadata": {
    "scrolled": true
   },
   "outputs": [
    {
     "data": {
      "text/plain": [
       "'Other times, we can watch them building from a distance until they fill our entire field of vision, hoping that the plans we put in place actually come together in the moment. Hurricane Irma, barrelling through the Caribbean at upwards of 185mph arrived with plenty of warning, but still, no less unpredictability. Moving and equipping journalists on the ground is expensive and not done lightly, but after a number of days watching the skies, it became clear we should mobilise. As millions were heading north fleeing Florida, our journalists were heading the other way. Breaking off from reporting, he boarded up his home, and made plans for his family to shelter safely. Shelter for us consists of four of us, including my two sons aged 10 and eight, squeezing into a 5ft x 5ft interior closet with no windows, away from exterior walls and doors. My youngest has his teddy bear and some chicken nuggets for comfort. The fact a tornado has actually struck nearby, instead of there just being the possibility of one, is sobering. The family survived a sleepless night and as Miami dodged the eye of the a storm, Richard carried on reporting through the week. Our US chief reporter, Ed Pilkington, has covered most that the world can throw at a journalist, but had not experienced a hurricane first hand. Stocking up on airport sandwiches, he got ready on Friday in his hotel near Miami international airport, for the deluge to come. By Friday afternoon, fuel for the car was his nagging worry as he reported on the tale of two Irmas, in which poor Miami residents stayed behind while the wealthy quit town. By Saturday, weather forecasts suggested the storm was moving west and Ed made the call to drive 100 miles across the state to Naples on the Gulf coast of Florida. A hair-raising drive followed as rains blew sideways and trees littered the deserted highway. When the hurricane reached Florida a day later, Ed was providing words, pictures and video for our live blog and via Twitter. When the storm threatened, they hunkered down. Words and pictures are not the only ways to tell stories today. Josh Holder, who is a developer who makes interactive online stories as part of the Guardian visuals team in London, worked with three other colleagues harnessing technology to show the storm in real time. We decided to add context around the severity of the storm, how well equipped countries were to cope and how it compared to recent storms in the area. Roofs had been torn off, sour seawater had invaded homes and there was no food or water reaching the chain of islands linked to the US mainland by the improbable bridges of highway one. By midweek, with information still only coming in fits and starts from the Caribbean, we ran a report on the catastrophic situation in Havana and Caroline Davies made her way to the British Virgin Islands, the heart of controversy over the preparedness and response of the British government. Even as the death toll rose to 12 in Florida, bringing the total from Irma to 55, the full devastation in the islands is still to become clear. As for the apparent increase in severity of extreme weather events, one key aspect of the way we told the story of hurricanes Irma and Harvey was our decision to grapple with the causes, while others were shy to talk about climate change. Oliver Milman, our New York-based environment correspondent, has examined not only how scientists have warned that higher temperatures have contributed to the severity of tropical storms, but he has also highlighted the consequences of planning failures which have left cities vulnerable to inundation. So Guardian journalists on three continents, using words, pictures and video, processing official and unofficial accounts, brought the deadly power of the hurricane to millions of readers around the world. Hardly. You can never have too many people on the ground witnessing events for themselves and it is, unfortunately, true that more focus goes on those places which are more developed, and easiest to reach and communicate with. Then the lessons to be drawn and vigilance required for reporting on the aftermath are tested, as attention wanders for both audience and newsroom. Even in a dysfunctional seat of government such as Washington DC, billions in aid is unlocked rapidly for national disasters. The restoration of Florida will surely be taken up with greater urgency than restoring the effects of a trail of devastation in the Caribbean.'"
      ]
     },
     "execution_count": 48,
     "metadata": {},
     "output_type": "execute_result"
    }
   ],
   "source": [
    "docs_irma[273]"
   ]
  },
  {
   "cell_type": "code",
   "execution_count": 49,
   "metadata": {},
   "outputs": [
    {
     "data": {
      "text/plain": [
       "442"
      ]
     },
     "execution_count": 49,
     "metadata": {},
     "output_type": "execute_result"
    }
   ],
   "source": [
    "len(sentences_list)"
   ]
  },
  {
   "cell_type": "code",
   "execution_count": null,
   "metadata": {
    "collapsed": true
   },
   "outputs": [],
   "source": []
  },
  {
   "cell_type": "code",
   "execution_count": 50,
   "metadata": {
    "collapsed": true
   },
   "outputs": [],
   "source": [
    "docs = [s for s in sentences_list if s]"
   ]
  },
  {
   "cell_type": "code",
   "execution_count": 51,
   "metadata": {
    "collapsed": true
   },
   "outputs": [],
   "source": [
    "df = pandas.DataFrame(docs)\n",
    "df.columns = ['Document']"
   ]
  },
  {
   "cell_type": "code",
   "execution_count": 52,
   "metadata": {},
   "outputs": [
    {
     "data": {
      "text/plain": [
       "170"
      ]
     },
     "execution_count": 52,
     "metadata": {},
     "output_type": "execute_result"
    }
   ],
   "source": [
    "len(docs)"
   ]
  },
  {
   "cell_type": "code",
   "execution_count": 53,
   "metadata": {
    "scrolled": true
   },
   "outputs": [
    {
     "data": {
      "text/html": [
       "<div>\n",
       "<style>\n",
       "    .dataframe thead tr:only-child th {\n",
       "        text-align: right;\n",
       "    }\n",
       "\n",
       "    .dataframe thead th {\n",
       "        text-align: left;\n",
       "    }\n",
       "\n",
       "    .dataframe tbody tr th {\n",
       "        vertical-align: top;\n",
       "    }\n",
       "</style>\n",
       "<table border=\"1\" class=\"dataframe\">\n",
       "  <thead>\n",
       "    <tr style=\"text-align: right;\">\n",
       "      <th></th>\n",
       "      <th>Document</th>\n",
       "    </tr>\n",
       "  </thead>\n",
       "  <tbody>\n",
       "    <tr>\n",
       "      <th>0</th>\n",
       "      <td>Be prepared with our Hurricane Guide, forecast...</td>\n",
       "    </tr>\n",
       "    <tr>\n",
       "      <th>1</th>\n",
       "      <td>Branded content is written by or on behalf of ...</td>\n",
       "    </tr>\n",
       "    <tr>\n",
       "      <th>2</th>\n",
       "      <td>Matthew first made landfall in Haiti as a powe...</td>\n",
       "    </tr>\n",
       "    <tr>\n",
       "      <th>3</th>\n",
       "      <td>Matthew first made landfall in Haiti as a powe...</td>\n",
       "    </tr>\n",
       "    <tr>\n",
       "      <th>4</th>\n",
       "      <td>Branded content is written by or on behalf of ...</td>\n",
       "    </tr>\n",
       "    <tr>\n",
       "      <th>5</th>\n",
       "      <td>Matthew first made landfall in Haiti as a powe...</td>\n",
       "    </tr>\n",
       "    <tr>\n",
       "      <th>6</th>\n",
       "      <td>UP NEXT X Tropical Storm Irma 8 a.m. Hurricane...</td>\n",
       "    </tr>\n",
       "    <tr>\n",
       "      <th>7</th>\n",
       "      <td>About 95 percent of the islands of Barbuda and...</td>\n",
       "    </tr>\n",
       "    <tr>\n",
       "      <th>8</th>\n",
       "      <td>Naples, Fort Myers and Tampa are now expected ...</td>\n",
       "    </tr>\n",
       "    <tr>\n",
       "      <th>9</th>\n",
       "      <td>With maximum sustained winds of 115 mph and a ...</td>\n",
       "    </tr>\n",
       "    <tr>\n",
       "      <th>10</th>\n",
       "      <td>Galleries Aretha Franklin Through The Years Le...</td>\n",
       "    </tr>\n",
       "    <tr>\n",
       "      <th>11</th>\n",
       "      <td>The water should return by Sunday afternoon wi...</td>\n",
       "    </tr>\n",
       "    <tr>\n",
       "      <th>12</th>\n",
       "      <td>Please look at the time stamp on the story to ...</td>\n",
       "    </tr>\n",
       "    <tr>\n",
       "      <th>13</th>\n",
       "      <td>President Obama, accompanied by Homeland Secur...</td>\n",
       "    </tr>\n",
       "    <tr>\n",
       "      <th>14</th>\n",
       "      <td>The storm was lashing Florida on Friday. Offic...</td>\n",
       "    </tr>\n",
       "    <tr>\n",
       "      <th>15</th>\n",
       "      <td>SUBSCRIBE NOWto get home delivery News Sports ...</td>\n",
       "    </tr>\n",
       "    <tr>\n",
       "      <th>16</th>\n",
       "      <td>Maryland Virginia Public Safety Education Obit...</td>\n",
       "    </tr>\n",
       "    <tr>\n",
       "      <th>17</th>\n",
       "      <td>Matthew first made landfall in Haiti as a powe...</td>\n",
       "    </tr>\n",
       "    <tr>\n",
       "      <th>18</th>\n",
       "      <td>The water should return by Sunday afternoon wi...</td>\n",
       "    </tr>\n",
       "    <tr>\n",
       "      <th>19</th>\n",
       "      <td>SUBSCRIBE NOWto get home delivery News Sports ...</td>\n",
       "    </tr>\n",
       "    <tr>\n",
       "      <th>20</th>\n",
       "      <td>All rights reserved. Registration on or use of...</td>\n",
       "    </tr>\n",
       "    <tr>\n",
       "      <th>21</th>\n",
       "      <td>Matthew first made landfall in Haiti as a powe...</td>\n",
       "    </tr>\n",
       "    <tr>\n",
       "      <th>22</th>\n",
       "      <td>And Florida was their leading destination. Hur...</td>\n",
       "    </tr>\n",
       "    <tr>\n",
       "      <th>23</th>\n",
       "      <td>All rights reserved. Registration on or use of...</td>\n",
       "    </tr>\n",
       "    <tr>\n",
       "      <th>24</th>\n",
       "      <td>Matthew first made landfall in Haiti as a powe...</td>\n",
       "    </tr>\n",
       "    <tr>\n",
       "      <th>25</th>\n",
       "      <td>The island is now a near-deserted disaster zon...</td>\n",
       "    </tr>\n",
       "    <tr>\n",
       "      <th>26</th>\n",
       "      <td>Subscribe to Breaking News emails You have suc...</td>\n",
       "    </tr>\n",
       "    <tr>\n",
       "      <th>27</th>\n",
       "      <td>Harvey, which made landfall late Friday as a C...</td>\n",
       "    </tr>\n",
       "    <tr>\n",
       "      <th>28</th>\n",
       "      <td>Matthew first made landfall in Haiti as a powe...</td>\n",
       "    </tr>\n",
       "    <tr>\n",
       "      <th>29</th>\n",
       "      <td>Photograph: PA Boris Johnson, the foreign secr...</td>\n",
       "    </tr>\n",
       "    <tr>\n",
       "      <th>...</th>\n",
       "      <td>...</td>\n",
       "    </tr>\n",
       "    <tr>\n",
       "      <th>140</th>\n",
       "      <td>Those sessions became his latest album, Songs ...</td>\n",
       "    </tr>\n",
       "    <tr>\n",
       "      <th>141</th>\n",
       "      <td>Matthew first made landfall in Haiti as a powe...</td>\n",
       "    </tr>\n",
       "    <tr>\n",
       "      <th>142</th>\n",
       "      <td>At least 11 deaths have been blamed on the pow...</td>\n",
       "    </tr>\n",
       "    <tr>\n",
       "      <th>143</th>\n",
       "      <td>Experts say U.S. satellite data simply cannot ...</td>\n",
       "    </tr>\n",
       "    <tr>\n",
       "      <th>144</th>\n",
       "      <td>In addition, the Bahamian authorities have org...</td>\n",
       "    </tr>\n",
       "    <tr>\n",
       "      <th>145</th>\n",
       "      <td>Please look at the time stamp on the story to ...</td>\n",
       "    </tr>\n",
       "    <tr>\n",
       "      <th>146</th>\n",
       "      <td>Be prepared with our Hurricane Guide, forecast...</td>\n",
       "    </tr>\n",
       "    <tr>\n",
       "      <th>147</th>\n",
       "      <td>The water should return by Sunday afternoon wi...</td>\n",
       "    </tr>\n",
       "    <tr>\n",
       "      <th>148</th>\n",
       "      <td>Masojada was using estimates from the risk mod...</td>\n",
       "    </tr>\n",
       "    <tr>\n",
       "      <th>149</th>\n",
       "      <td>With maximum sustained winds of 115 mph and a ...</td>\n",
       "    </tr>\n",
       "    <tr>\n",
       "      <th>150</th>\n",
       "      <td>Matthew first made landfall in Haiti as a powe...</td>\n",
       "    </tr>\n",
       "    <tr>\n",
       "      <th>151</th>\n",
       "      <td>Please look at the time stamp on the story to ...</td>\n",
       "    </tr>\n",
       "    <tr>\n",
       "      <th>152</th>\n",
       "      <td>Hurricane Irma Is So Powerful it Sucked Ocean ...</td>\n",
       "    </tr>\n",
       "    <tr>\n",
       "      <th>153</th>\n",
       "      <td>Matthew first made landfall in Haiti as a powe...</td>\n",
       "    </tr>\n",
       "    <tr>\n",
       "      <th>154</th>\n",
       "      <td>It was a very fast-moving system early in its ...</td>\n",
       "    </tr>\n",
       "    <tr>\n",
       "      <th>155</th>\n",
       "      <td>It was the deadliest hurricane to hit the West...</td>\n",
       "    </tr>\n",
       "    <tr>\n",
       "      <th>156</th>\n",
       "      <td>Please look at the time stamp on the story to ...</td>\n",
       "    </tr>\n",
       "    <tr>\n",
       "      <th>157</th>\n",
       "      <td>CLICK HERE TO TURN ON NOTIFICATIONS. Hurricane...</td>\n",
       "    </tr>\n",
       "    <tr>\n",
       "      <th>158</th>\n",
       "      <td>By Joel Achenbach , Reporter Mark Berman , Rep...</td>\n",
       "    </tr>\n",
       "    <tr>\n",
       "      <th>159</th>\n",
       "      <td>Matthew first made landfall in Haiti as a powe...</td>\n",
       "    </tr>\n",
       "    <tr>\n",
       "      <th>160</th>\n",
       "      <td>Drought Investigative Unit Consumer Stories In...</td>\n",
       "    </tr>\n",
       "    <tr>\n",
       "      <th>161</th>\n",
       "      <td>Branded content is written by or on behalf of ...</td>\n",
       "    </tr>\n",
       "    <tr>\n",
       "      <th>162</th>\n",
       "      <td>The track forecast for Hurricane Matthew has s...</td>\n",
       "    </tr>\n",
       "    <tr>\n",
       "      <th>163</th>\n",
       "      <td>Branded content is written by or on behalf of ...</td>\n",
       "    </tr>\n",
       "    <tr>\n",
       "      <th>164</th>\n",
       "      <td>Matthew first made landfall in Haiti as a powe...</td>\n",
       "    </tr>\n",
       "    <tr>\n",
       "      <th>165</th>\n",
       "      <td>Matthew first made landfall in Haiti as a powe...</td>\n",
       "    </tr>\n",
       "    <tr>\n",
       "      <th>166</th>\n",
       "      <td>Matthew first made landfall in Haiti as a powe...</td>\n",
       "    </tr>\n",
       "    <tr>\n",
       "      <th>167</th>\n",
       "      <td>Please look at the time stamp on the story to ...</td>\n",
       "    </tr>\n",
       "    <tr>\n",
       "      <th>168</th>\n",
       "      <td>Subscribe to Breaking News emails You have suc...</td>\n",
       "    </tr>\n",
       "    <tr>\n",
       "      <th>169</th>\n",
       "      <td>Please look at the time stamp on the story to ...</td>\n",
       "    </tr>\n",
       "  </tbody>\n",
       "</table>\n",
       "<p>170 rows × 1 columns</p>\n",
       "</div>"
      ],
      "text/plain": [
       "                                              Document\n",
       "0    Be prepared with our Hurricane Guide, forecast...\n",
       "1    Branded content is written by or on behalf of ...\n",
       "2    Matthew first made landfall in Haiti as a powe...\n",
       "3    Matthew first made landfall in Haiti as a powe...\n",
       "4    Branded content is written by or on behalf of ...\n",
       "5    Matthew first made landfall in Haiti as a powe...\n",
       "6    UP NEXT X Tropical Storm Irma 8 a.m. Hurricane...\n",
       "7    About 95 percent of the islands of Barbuda and...\n",
       "8    Naples, Fort Myers and Tampa are now expected ...\n",
       "9    With maximum sustained winds of 115 mph and a ...\n",
       "10   Galleries Aretha Franklin Through The Years Le...\n",
       "11   The water should return by Sunday afternoon wi...\n",
       "12   Please look at the time stamp on the story to ...\n",
       "13   President Obama, accompanied by Homeland Secur...\n",
       "14   The storm was lashing Florida on Friday. Offic...\n",
       "15   SUBSCRIBE NOWto get home delivery News Sports ...\n",
       "16   Maryland Virginia Public Safety Education Obit...\n",
       "17   Matthew first made landfall in Haiti as a powe...\n",
       "18   The water should return by Sunday afternoon wi...\n",
       "19   SUBSCRIBE NOWto get home delivery News Sports ...\n",
       "20   All rights reserved. Registration on or use of...\n",
       "21   Matthew first made landfall in Haiti as a powe...\n",
       "22   And Florida was their leading destination. Hur...\n",
       "23   All rights reserved. Registration on or use of...\n",
       "24   Matthew first made landfall in Haiti as a powe...\n",
       "25   The island is now a near-deserted disaster zon...\n",
       "26   Subscribe to Breaking News emails You have suc...\n",
       "27   Harvey, which made landfall late Friday as a C...\n",
       "28   Matthew first made landfall in Haiti as a powe...\n",
       "29   Photograph: PA Boris Johnson, the foreign secr...\n",
       "..                                                 ...\n",
       "140  Those sessions became his latest album, Songs ...\n",
       "141  Matthew first made landfall in Haiti as a powe...\n",
       "142  At least 11 deaths have been blamed on the pow...\n",
       "143  Experts say U.S. satellite data simply cannot ...\n",
       "144  In addition, the Bahamian authorities have org...\n",
       "145  Please look at the time stamp on the story to ...\n",
       "146  Be prepared with our Hurricane Guide, forecast...\n",
       "147  The water should return by Sunday afternoon wi...\n",
       "148  Masojada was using estimates from the risk mod...\n",
       "149  With maximum sustained winds of 115 mph and a ...\n",
       "150  Matthew first made landfall in Haiti as a powe...\n",
       "151  Please look at the time stamp on the story to ...\n",
       "152  Hurricane Irma Is So Powerful it Sucked Ocean ...\n",
       "153  Matthew first made landfall in Haiti as a powe...\n",
       "154  It was a very fast-moving system early in its ...\n",
       "155  It was the deadliest hurricane to hit the West...\n",
       "156  Please look at the time stamp on the story to ...\n",
       "157  CLICK HERE TO TURN ON NOTIFICATIONS. Hurricane...\n",
       "158  By Joel Achenbach , Reporter Mark Berman , Rep...\n",
       "159  Matthew first made landfall in Haiti as a powe...\n",
       "160  Drought Investigative Unit Consumer Stories In...\n",
       "161  Branded content is written by or on behalf of ...\n",
       "162  The track forecast for Hurricane Matthew has s...\n",
       "163  Branded content is written by or on behalf of ...\n",
       "164  Matthew first made landfall in Haiti as a powe...\n",
       "165  Matthew first made landfall in Haiti as a powe...\n",
       "166  Matthew first made landfall in Haiti as a powe...\n",
       "167  Please look at the time stamp on the story to ...\n",
       "168  Subscribe to Breaking News emails You have suc...\n",
       "169  Please look at the time stamp on the story to ...\n",
       "\n",
       "[170 rows x 1 columns]"
      ]
     },
     "execution_count": 53,
     "metadata": {},
     "output_type": "execute_result"
    }
   ],
   "source": [
    "df"
   ]
  },
  {
   "cell_type": "code",
   "execution_count": 64,
   "metadata": {
    "scrolled": true
   },
   "outputs": [],
   "source": [
    "#remove duplicate rows and keep one\n",
    "df = df.drop_duplicates(keep = 'first')"
   ]
  },
  {
   "cell_type": "code",
   "execution_count": 66,
   "metadata": {
    "scrolled": false
   },
   "outputs": [
    {
     "data": {
      "text/html": [
       "<div>\n",
       "<style>\n",
       "    .dataframe thead tr:only-child th {\n",
       "        text-align: right;\n",
       "    }\n",
       "\n",
       "    .dataframe thead th {\n",
       "        text-align: left;\n",
       "    }\n",
       "\n",
       "    .dataframe tbody tr th {\n",
       "        vertical-align: top;\n",
       "    }\n",
       "</style>\n",
       "<table border=\"1\" class=\"dataframe\">\n",
       "  <thead>\n",
       "    <tr style=\"text-align: right;\">\n",
       "      <th></th>\n",
       "      <th>Document</th>\n",
       "    </tr>\n",
       "  </thead>\n",
       "  <tbody>\n",
       "    <tr>\n",
       "      <th>0</th>\n",
       "      <td>Be prepared with our Hurricane Guide, forecast...</td>\n",
       "    </tr>\n",
       "    <tr>\n",
       "      <th>1</th>\n",
       "      <td>Branded content is written by or on behalf of ...</td>\n",
       "    </tr>\n",
       "    <tr>\n",
       "      <th>2</th>\n",
       "      <td>Matthew first made landfall in Haiti as a powe...</td>\n",
       "    </tr>\n",
       "    <tr>\n",
       "      <th>4</th>\n",
       "      <td>Branded content is written by or on behalf of ...</td>\n",
       "    </tr>\n",
       "    <tr>\n",
       "      <th>6</th>\n",
       "      <td>UP NEXT X Tropical Storm Irma 8 a.m. Hurricane...</td>\n",
       "    </tr>\n",
       "    <tr>\n",
       "      <th>7</th>\n",
       "      <td>About 95 percent of the islands of Barbuda and...</td>\n",
       "    </tr>\n",
       "    <tr>\n",
       "      <th>8</th>\n",
       "      <td>Naples, Fort Myers and Tampa are now expected ...</td>\n",
       "    </tr>\n",
       "    <tr>\n",
       "      <th>9</th>\n",
       "      <td>With maximum sustained winds of 115 mph and a ...</td>\n",
       "    </tr>\n",
       "    <tr>\n",
       "      <th>10</th>\n",
       "      <td>Galleries Aretha Franklin Through The Years Le...</td>\n",
       "    </tr>\n",
       "    <tr>\n",
       "      <th>11</th>\n",
       "      <td>The water should return by Sunday afternoon wi...</td>\n",
       "    </tr>\n",
       "    <tr>\n",
       "      <th>12</th>\n",
       "      <td>Please look at the time stamp on the story to ...</td>\n",
       "    </tr>\n",
       "    <tr>\n",
       "      <th>13</th>\n",
       "      <td>President Obama, accompanied by Homeland Secur...</td>\n",
       "    </tr>\n",
       "    <tr>\n",
       "      <th>14</th>\n",
       "      <td>The storm was lashing Florida on Friday. Offic...</td>\n",
       "    </tr>\n",
       "    <tr>\n",
       "      <th>15</th>\n",
       "      <td>SUBSCRIBE NOWto get home delivery News Sports ...</td>\n",
       "    </tr>\n",
       "    <tr>\n",
       "      <th>16</th>\n",
       "      <td>Maryland Virginia Public Safety Education Obit...</td>\n",
       "    </tr>\n",
       "    <tr>\n",
       "      <th>19</th>\n",
       "      <td>SUBSCRIBE NOWto get home delivery News Sports ...</td>\n",
       "    </tr>\n",
       "    <tr>\n",
       "      <th>20</th>\n",
       "      <td>All rights reserved. Registration on or use of...</td>\n",
       "    </tr>\n",
       "    <tr>\n",
       "      <th>22</th>\n",
       "      <td>And Florida was their leading destination. Hur...</td>\n",
       "    </tr>\n",
       "    <tr>\n",
       "      <th>23</th>\n",
       "      <td>All rights reserved. Registration on or use of...</td>\n",
       "    </tr>\n",
       "    <tr>\n",
       "      <th>25</th>\n",
       "      <td>The island is now a near-deserted disaster zon...</td>\n",
       "    </tr>\n",
       "    <tr>\n",
       "      <th>26</th>\n",
       "      <td>Subscribe to Breaking News emails You have suc...</td>\n",
       "    </tr>\n",
       "    <tr>\n",
       "      <th>27</th>\n",
       "      <td>Harvey, which made landfall late Friday as a C...</td>\n",
       "    </tr>\n",
       "    <tr>\n",
       "      <th>29</th>\n",
       "      <td>Photograph: PA Boris Johnson, the foreign secr...</td>\n",
       "    </tr>\n",
       "    <tr>\n",
       "      <th>30</th>\n",
       "      <td>Tuesday, Oct. 4, 2016. Matthew slammed into Ha...</td>\n",
       "    </tr>\n",
       "    <tr>\n",
       "      <th>31</th>\n",
       "      <td>Please look at the time stamp on the story to ...</td>\n",
       "    </tr>\n",
       "    <tr>\n",
       "      <th>32</th>\n",
       "      <td>1:45 p.m. update Saturday: Category 4 Hurrican...</td>\n",
       "    </tr>\n",
       "    <tr>\n",
       "      <th>33</th>\n",
       "      <td>By Joel Achenbach , Reporter Mark Berman , Rep...</td>\n",
       "    </tr>\n",
       "    <tr>\n",
       "      <th>36</th>\n",
       "      <td>The disaster claimed 14 lives at the nursing h...</td>\n",
       "    </tr>\n",
       "    <tr>\n",
       "      <th>38</th>\n",
       "      <td>Subscribe to Breaking News emails You have suc...</td>\n",
       "    </tr>\n",
       "    <tr>\n",
       "      <th>39</th>\n",
       "      <td>The closures affect theme parks, water parks, ...</td>\n",
       "    </tr>\n",
       "    <tr>\n",
       "      <th>...</th>\n",
       "      <td>...</td>\n",
       "    </tr>\n",
       "    <tr>\n",
       "      <th>113</th>\n",
       "      <td>Nearly 7 million people left their homes to es...</td>\n",
       "    </tr>\n",
       "    <tr>\n",
       "      <th>115</th>\n",
       "      <td>Whether the Category 5 hurricane makes a close...</td>\n",
       "    </tr>\n",
       "    <tr>\n",
       "      <th>119</th>\n",
       "      <td>But the island nation caught a lucky break as ...</td>\n",
       "    </tr>\n",
       "    <tr>\n",
       "      <th>120</th>\n",
       "      <td>Find out what's happening in the world as it u...</td>\n",
       "    </tr>\n",
       "    <tr>\n",
       "      <th>122</th>\n",
       "      <td>Retropolis As Hurricane Harvey slams Texas, a ...</td>\n",
       "    </tr>\n",
       "    <tr>\n",
       "      <th>124</th>\n",
       "      <td>Published: 4:30 PM Scaling up our response to ...</td>\n",
       "    </tr>\n",
       "    <tr>\n",
       "      <th>125</th>\n",
       "      <td>Please look at the time stamp on the story to ...</td>\n",
       "    </tr>\n",
       "    <tr>\n",
       "      <th>127</th>\n",
       "      <td>With maximum sustained winds of 115 mph and a ...</td>\n",
       "    </tr>\n",
       "    <tr>\n",
       "      <th>128</th>\n",
       "      <td>For nearly two days, monstrous Hurricane Irma ...</td>\n",
       "    </tr>\n",
       "    <tr>\n",
       "      <th>130</th>\n",
       "      <td>SUBSCRIBE NOWto get home delivery News Sports ...</td>\n",
       "    </tr>\n",
       "    <tr>\n",
       "      <th>133</th>\n",
       "      <td>All rights reserved. Registration on or use of...</td>\n",
       "    </tr>\n",
       "    <tr>\n",
       "      <th>135</th>\n",
       "      <td>SUBSCRIBE NOWto get home delivery News Sports ...</td>\n",
       "    </tr>\n",
       "    <tr>\n",
       "      <th>138</th>\n",
       "      <td>Capital Weather Gang Enormous Hurricane Irma s...</td>\n",
       "    </tr>\n",
       "    <tr>\n",
       "      <th>140</th>\n",
       "      <td>Those sessions became his latest album, Songs ...</td>\n",
       "    </tr>\n",
       "    <tr>\n",
       "      <th>142</th>\n",
       "      <td>At least 11 deaths have been blamed on the pow...</td>\n",
       "    </tr>\n",
       "    <tr>\n",
       "      <th>143</th>\n",
       "      <td>Experts say U.S. satellite data simply cannot ...</td>\n",
       "    </tr>\n",
       "    <tr>\n",
       "      <th>144</th>\n",
       "      <td>In addition, the Bahamian authorities have org...</td>\n",
       "    </tr>\n",
       "    <tr>\n",
       "      <th>145</th>\n",
       "      <td>Please look at the time stamp on the story to ...</td>\n",
       "    </tr>\n",
       "    <tr>\n",
       "      <th>146</th>\n",
       "      <td>Be prepared with our Hurricane Guide, forecast...</td>\n",
       "    </tr>\n",
       "    <tr>\n",
       "      <th>148</th>\n",
       "      <td>Masojada was using estimates from the risk mod...</td>\n",
       "    </tr>\n",
       "    <tr>\n",
       "      <th>151</th>\n",
       "      <td>Please look at the time stamp on the story to ...</td>\n",
       "    </tr>\n",
       "    <tr>\n",
       "      <th>152</th>\n",
       "      <td>Hurricane Irma Is So Powerful it Sucked Ocean ...</td>\n",
       "    </tr>\n",
       "    <tr>\n",
       "      <th>154</th>\n",
       "      <td>It was a very fast-moving system early in its ...</td>\n",
       "    </tr>\n",
       "    <tr>\n",
       "      <th>155</th>\n",
       "      <td>It was the deadliest hurricane to hit the West...</td>\n",
       "    </tr>\n",
       "    <tr>\n",
       "      <th>156</th>\n",
       "      <td>Please look at the time stamp on the story to ...</td>\n",
       "    </tr>\n",
       "    <tr>\n",
       "      <th>157</th>\n",
       "      <td>CLICK HERE TO TURN ON NOTIFICATIONS. Hurricane...</td>\n",
       "    </tr>\n",
       "    <tr>\n",
       "      <th>160</th>\n",
       "      <td>Drought Investigative Unit Consumer Stories In...</td>\n",
       "    </tr>\n",
       "    <tr>\n",
       "      <th>162</th>\n",
       "      <td>The track forecast for Hurricane Matthew has s...</td>\n",
       "    </tr>\n",
       "    <tr>\n",
       "      <th>167</th>\n",
       "      <td>Please look at the time stamp on the story to ...</td>\n",
       "    </tr>\n",
       "    <tr>\n",
       "      <th>169</th>\n",
       "      <td>Please look at the time stamp on the story to ...</td>\n",
       "    </tr>\n",
       "  </tbody>\n",
       "</table>\n",
       "<p>103 rows × 1 columns</p>\n",
       "</div>"
      ],
      "text/plain": [
       "                                              Document\n",
       "0    Be prepared with our Hurricane Guide, forecast...\n",
       "1    Branded content is written by or on behalf of ...\n",
       "2    Matthew first made landfall in Haiti as a powe...\n",
       "4    Branded content is written by or on behalf of ...\n",
       "6    UP NEXT X Tropical Storm Irma 8 a.m. Hurricane...\n",
       "7    About 95 percent of the islands of Barbuda and...\n",
       "8    Naples, Fort Myers and Tampa are now expected ...\n",
       "9    With maximum sustained winds of 115 mph and a ...\n",
       "10   Galleries Aretha Franklin Through The Years Le...\n",
       "11   The water should return by Sunday afternoon wi...\n",
       "12   Please look at the time stamp on the story to ...\n",
       "13   President Obama, accompanied by Homeland Secur...\n",
       "14   The storm was lashing Florida on Friday. Offic...\n",
       "15   SUBSCRIBE NOWto get home delivery News Sports ...\n",
       "16   Maryland Virginia Public Safety Education Obit...\n",
       "19   SUBSCRIBE NOWto get home delivery News Sports ...\n",
       "20   All rights reserved. Registration on or use of...\n",
       "22   And Florida was their leading destination. Hur...\n",
       "23   All rights reserved. Registration on or use of...\n",
       "25   The island is now a near-deserted disaster zon...\n",
       "26   Subscribe to Breaking News emails You have suc...\n",
       "27   Harvey, which made landfall late Friday as a C...\n",
       "29   Photograph: PA Boris Johnson, the foreign secr...\n",
       "30   Tuesday, Oct. 4, 2016. Matthew slammed into Ha...\n",
       "31   Please look at the time stamp on the story to ...\n",
       "32   1:45 p.m. update Saturday: Category 4 Hurrican...\n",
       "33   By Joel Achenbach , Reporter Mark Berman , Rep...\n",
       "36   The disaster claimed 14 lives at the nursing h...\n",
       "38   Subscribe to Breaking News emails You have suc...\n",
       "39   The closures affect theme parks, water parks, ...\n",
       "..                                                 ...\n",
       "113  Nearly 7 million people left their homes to es...\n",
       "115  Whether the Category 5 hurricane makes a close...\n",
       "119  But the island nation caught a lucky break as ...\n",
       "120  Find out what's happening in the world as it u...\n",
       "122  Retropolis As Hurricane Harvey slams Texas, a ...\n",
       "124  Published: 4:30 PM Scaling up our response to ...\n",
       "125  Please look at the time stamp on the story to ...\n",
       "127  With maximum sustained winds of 115 mph and a ...\n",
       "128  For nearly two days, monstrous Hurricane Irma ...\n",
       "130  SUBSCRIBE NOWto get home delivery News Sports ...\n",
       "133  All rights reserved. Registration on or use of...\n",
       "135  SUBSCRIBE NOWto get home delivery News Sports ...\n",
       "138  Capital Weather Gang Enormous Hurricane Irma s...\n",
       "140  Those sessions became his latest album, Songs ...\n",
       "142  At least 11 deaths have been blamed on the pow...\n",
       "143  Experts say U.S. satellite data simply cannot ...\n",
       "144  In addition, the Bahamian authorities have org...\n",
       "145  Please look at the time stamp on the story to ...\n",
       "146  Be prepared with our Hurricane Guide, forecast...\n",
       "148  Masojada was using estimates from the risk mod...\n",
       "151  Please look at the time stamp on the story to ...\n",
       "152  Hurricane Irma Is So Powerful it Sucked Ocean ...\n",
       "154  It was a very fast-moving system early in its ...\n",
       "155  It was the deadliest hurricane to hit the West...\n",
       "156  Please look at the time stamp on the story to ...\n",
       "157  CLICK HERE TO TURN ON NOTIFICATIONS. Hurricane...\n",
       "160  Drought Investigative Unit Consumer Stories In...\n",
       "162  The track forecast for Hurricane Matthew has s...\n",
       "167  Please look at the time stamp on the story to ...\n",
       "169  Please look at the time stamp on the story to ...\n",
       "\n",
       "[103 rows x 1 columns]"
      ]
     },
     "execution_count": 66,
     "metadata": {},
     "output_type": "execute_result"
    }
   ],
   "source": [
    "df"
   ]
  },
  {
   "cell_type": "code",
   "execution_count": 67,
   "metadata": {
    "collapsed": true
   },
   "outputs": [],
   "source": [
    "#save file to csv\n",
    "df.to_csv('/Users/thoangtran/docker/cs5984/share_dir/small_data_clean/smallData.csv')"
   ]
  },
  {
   "cell_type": "code",
   "execution_count": 82,
   "metadata": {},
   "outputs": [
    {
     "name": "stdout",
     "output_type": "stream",
     "text": [
      "'Matthew first made landfall in Haiti as a powerful Category 4 storm on October 4, 2016, with maximum sustained winds of around 145 miles per hour, before heading towards the southeastern United States. The storm killed more than 1,000 people in Haiti, and at least 27 in the U.S. - more than half of them in North Carolina. Photo: Vehicles at a business are surrounded by floodwaters from Hurricane Matthew in Lumberton, North Carolina Wednesday, October 12, 2016. People were ordered to evacuate, and officials warned that some communities could be cut off by washed out roads or bridge closures. Thousands of homes have been damaged in North Carolina as a result of the storm and many are still under threat of flooding. Patricia and her husband Ron fled their home in Myrtle Beach, South Carolina and sought shelter in Lumberton, only to have their car get caught in the floodwaters. Health authorities have warned that Hurricane Matthew has created conditions that are likely to cause an increase in the deadly waterborne cholera virus. Nearly a week after the storm smashed into southwestern Haiti, some communities along the southern coast have yet to receive any assistance, leaving residents who have lost their homes and virtually all of their belongings struggling to find shelter and potable water. Jeremy Stellhorn carries two-year-old Cathalawa Olivia through flood waters as he rescues residents of a mobile home park inundated by rising river waters in Lumberton, North Carolina after Hurricane Matthew hit the state, October 10, 2016. Matthew was a monster Category 4 when it slammed into the poorest country in the western hemisphere Tuesday. Lovece rode out the storm as waves took away the room at the back of his home. Nearly a week after the storm smashed into southwestern Haiti, some communities along the southern coast have yet to receive any assistance, leaving residents who have lost their homes and virtually all of their belongings struggling to find shelter and potable water. Roberto, 32, died when the wall of a church next door to his home fell during Hurricane Matthew. Hurricane Matthew passed by offshore bringing heavy winds and flooding. She and her husband planned to ride out the storm in their store which has been in his family for 90 years. Hurricane Matthew passed by offshore as a Category 3 hurricane bringing heavy winds and minor flooding. Some three million people on the U.S. southeast coast faced an urgent evacuation order Thursday as Hurricane Matthew bore down on Florida. Matthew hit them as a Category Four hurricane but has since been downgraded to three, on a scale of five, by the US National Hurricane Center. The first evacuations were ordered in the United States as coastal residents prepared to escape the approaching monster storm, expected off the East Coast later this week. The dangerous Category 4 storm blew ashore around dawn in Haiti. It unloaded heavy rain as it swirled on toward a lightly populated part of Cuba and the Bahamas. Hurricane Matthew roared into the southwestern coast of the island of Hispaniola with devastating storm conditions as it headed north toward Cuba and the eastern coast of Florida. As the Category 4 hurricane creeps closer, Cuba, in the likely path of destruction, ordered the evacuation of more than 250,000 people from the east of the island. Hurricane Matthew took aim at densely populated Haiti and Jamaica on Monday, packing winds that could sweep away flimsy buildings and bringing torrential rain that could trigger deadly landslides and floods. As the powerful storm churned north, officials in both countries scrambled to protect buildings and move people out of danger zones to shelters. All rights reserved.'\n"
     ]
    }
   ],
   "source": [
    "string = repr(df.iloc[2][0])\n",
    "print(string)"
   ]
  },
  {
   "cell_type": "code",
   "execution_count": 83,
   "metadata": {
    "collapsed": true
   },
   "outputs": [],
   "source": [
    "from nltk import sent_tokenize\n",
    "sentences = sent_tokenize(string)"
   ]
  },
  {
   "cell_type": "code",
   "execution_count": 84,
   "metadata": {},
   "outputs": [
    {
     "data": {
      "text/plain": [
       "153"
      ]
     },
     "execution_count": 84,
     "metadata": {},
     "output_type": "execute_result"
    }
   ],
   "source": [
    "len(sentences[6])"
   ]
  },
  {
   "cell_type": "code",
   "execution_count": 85,
   "metadata": {},
   "outputs": [
    {
     "data": {
      "text/plain": [
       "\"'Matthew first made landfall in Haiti as a powerful Category 4 storm on October 4, 2016, with maximum sustained winds of around 145 miles per hour, before heading towards the southeastern United States. The storm killed more than 1,000 people in Haiti, and at least 27 in the U.S. - more than half of them in North Carolina. Photo: Vehicles at a business are surrounded by floodwaters from Hurricane Matthew in Lumberton, North Carolina Wednesday, October 12, 2016. People were ordered to evacuate, and officials warned that some communities could be cut off by washed out roads or bridge closures. Thousands of homes have been damaged in North Carolina as a result of the storm and many are still under threat of flooding. Patricia and her husband Ron fled their home in Myrtle Beach, South Carolina and sought shelter in Lumberton, only to have their car get caught in the floodwaters. Health authorities have warned that Hurricane Matthew has created conditions that are likely to cause an increase in the deadly waterborne cholera virus. Nearly a week after the storm smashed into southwestern Haiti, some communities along the southern coast have yet to receive any assistance, leaving residents who have lost their homes and virtually all of their belongings struggling to find shelter and potable water. Jeremy Stellhorn carries two-year-old Cathalawa Olivia through flood waters as he rescues residents of a mobile home park inundated by rising river waters in Lumberton, North Carolina after Hurricane Matthew hit the state, October 10, 2016. Matthew was a monster Category 4 when it slammed into the poorest country in the western hemisphere Tuesday. Lovece rode out the storm as waves took away the room at the back of his home. Nearly a week after the storm smashed into southwestern Haiti, some communities along the southern coast have yet to receive any assistance, leaving residents who have lost their homes and virtually all of their belongings struggling to find shelter and potable water. Roberto, 32, died when the wall of a church next door to his home fell during Hurricane Matthew. Hurricane Matthew passed by offshore bringing heavy winds and flooding. She and her husband planned to ride out the storm in their store which has been in his family for 90 years. Hurricane Matthew passed by offshore as a Category 3 hurricane bringing heavy winds and minor flooding. Some three million people on the U.S. southeast coast faced an urgent evacuation order Thursday as Hurricane Matthew bore down on Florida. Matthew hit them as a Category Four hurricane but has since been downgraded to three, on a scale of five, by the US National Hurricane Center. The first evacuations were ordered in the United States as coastal residents prepared to escape the approaching monster storm, expected off the East Coast later this week. The dangerous Category 4 storm blew ashore around dawn in Haiti. It unloaded heavy rain as it swirled on toward a lightly populated part of Cuba and the Bahamas. Hurricane Matthew roared into the southwestern coast of the island of Hispaniola with devastating storm conditions as it headed north toward Cuba and the eastern coast of Florida. As the Category 4 hurricane creeps closer, Cuba, in the likely path of destruction, ordered the evacuation of more than 250,000 people from the east of the island. Hurricane Matthew took aim at densely populated Haiti and Jamaica on Monday, packing winds that could sweep away flimsy buildings and bringing torrential rain that could trigger deadly landslides and floods. As the powerful storm churned north, officials in both countries scrambled to protect buildings and move people out of danger zones to shelters. All rights reserved.'\""
      ]
     },
     "execution_count": 85,
     "metadata": {},
     "output_type": "execute_result"
    }
   ],
   "source": [
    "sents = ['' if len(sent) <= 20 else sent for sent in sentences]\n",
    "sents = [s for s in sents if s]\n",
    "sentences2 = (' ').join(sents)\n",
    "sentences2"
   ]
  },
  {
   "cell_type": "code",
   "execution_count": 28,
   "metadata": {
    "collapsed": true
   },
   "outputs": [],
   "source": [
    "#Regrex\n",
    "maxWindspeedString = \"[0-9]{1,3}\\s*(mph|MPH|kph|KPH|km/h)\"\n",
    "numberEvacuatedString = \"[1-9][0-9]*,?[0-9]*,?[0-9]*\\s(([A-Z]|[a-z]|[0-9])*\\s){0-5}(evacuate|evacuated|people|residents|deaths)\"\n",
    "windSpeedPattern = re.compile(maxWindspeedString)\n",
    "evacuatePattern = re.compile(numberEvacuatedString)"
   ]
  },
  {
   "cell_type": "code",
   "execution_count": 29,
   "metadata": {
    "collapsed": true
   },
   "outputs": [],
   "source": [
    "for sent in sentences:\n",
    "    for match in windSpeedPattern.finditer(sent):\n",
    "        result = match.group().split()\n",
    "        print(result)\n",
    "        "
   ]
  },
  {
   "cell_type": "code",
   "execution_count": 30,
   "metadata": {
    "collapsed": true
   },
   "outputs": [],
   "source": [
    "for sent in sentences:\n",
    "    for match in evacuatePattern.finditer(sent):\n",
    "        result = match.group().split()\n",
    "        print(result)"
   ]
  },
  {
   "cell_type": "code",
   "execution_count": 31,
   "metadata": {
    "collapsed": true
   },
   "outputs": [],
   "source": [
    "monthPatternString = \"(?:January|February|March|April|May|June|July|August|September|October|Oct.|November|December)\"\n",
    "monthPattern = re.compile(monthPatternString)\n",
    "for sent in sentences:\n",
    "    for match in monthPattern.finditer(sent):\n",
    "        result = match.group().split()\n",
    "        print(result)"
   ]
  },
  {
   "cell_type": "code",
   "execution_count": 32,
   "metadata": {
    "collapsed": true
   },
   "outputs": [],
   "source": [
    "from nltk import sent_tokenize\n",
    "sentences = sent_tokenize(string)"
   ]
  },
  {
   "cell_type": "code",
   "execution_count": null,
   "metadata": {
    "collapsed": true
   },
   "outputs": [],
   "source": []
  }
 ],
 "metadata": {
  "kernelspec": {
   "display_name": "Python 3",
   "language": "python",
   "name": "python3"
  },
  "language_info": {
   "codemirror_mode": {
    "name": "ipython",
    "version": 3
   },
   "file_extension": ".py",
   "mimetype": "text/x-python",
   "name": "python",
   "nbconvert_exporter": "python",
   "pygments_lexer": "ipython3",
   "version": "3.6.3"
  }
 },
 "nbformat": 4,
 "nbformat_minor": 2
}
